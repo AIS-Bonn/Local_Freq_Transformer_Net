{
 "cells": [
  {
   "cell_type": "code",
   "execution_count": 20,
   "metadata": {},
   "outputs": [],
   "source": [
    "import torch"
   ]
  },
  {
   "cell_type": "code",
   "execution_count": 21,
   "metadata": {},
   "outputs": [
    {
     "name": "stdout",
     "output_type": "stream",
     "text": [
      "torch.Size([8, 3, 17, 13, 15, 15])\n",
      "torch.Size([8, 3, 17, 13, 15, 15])\n"
     ]
    }
   ],
   "source": [
    "B, C, Ly, Lx, N = 8, 3, 17, 13, 15\n",
    "real_tensor = torch.rand((B, C, Ly, Lx, N, N))\n",
    "complex_tensor = torch.view_as_complex(torch.stack([real_tensor, torch.zeros_like(real_tensor)], dim=-1))\n",
    "print(real_tensor.shape)\n",
    "print(complex_tensor.shape)"
   ]
  },
  {
   "cell_type": "code",
   "execution_count": 22,
   "metadata": {},
   "outputs": [
    {
     "name": "stdout",
     "output_type": "stream",
     "text": [
      "torch.Size([8, 3, 17, 13, 15, 8])\n",
      "torch.Size([8, 3, 17, 13, 15, 15])\n"
     ]
    }
   ],
   "source": [
    "real_fft_res = torch.fft.rfftn(real_tensor, dim=(-2, -1))\n",
    "complex_fft_res = torch.fft.fftn(complex_tensor, dim=(-2, -1))\n",
    "\n",
    "print(real_fft_res.shape)\n",
    "print(complex_fft_res.shape)"
   ]
  },
  {
   "cell_type": "code",
   "execution_count": 23,
   "metadata": {},
   "outputs": [
    {
     "name": "stdout",
     "output_type": "stream",
     "text": [
      "torch.Size([8, 3, 17, 13, 15, 15])\n",
      "torch.Size([8, 3, 17, 13, 15, 15])\n",
      "tensor(8.3231e-15)\n",
      "tensor(4.4227e-15+2.3793e-19j)\n",
      "tensor(4.4658e-15)\n"
     ]
    }
   ],
   "source": [
    "real_ifft_res = torch.fft.irfftn(real_fft_res, dim=(-2, -1), s=(real_fft_res.shape[-2],real_fft_res.shape[-2]))\n",
    "complex_ifft_res = torch.fft.ifftn(complex_fft_res, dim=(-2, -1))\n",
    "\n",
    "print(real_ifft_res.shape)\n",
    "print(complex_ifft_res.shape)\n",
    "\n",
    "print(torch.pow(real_tensor-real_ifft_res,2).mean())\n",
    "print(torch.pow(complex_tensor-complex_ifft_res,2).mean())\n",
    "print(torch.pow(real_tensor-complex_ifft_res.real,2).mean())"
   ]
  },
  {
   "cell_type": "code",
   "execution_count": 24,
   "metadata": {},
   "outputs": [
    {
     "name": "stdout",
     "output_type": "stream",
     "text": [
      "torch.complex64\n",
      "torch.float32\n",
      "torch.Size([8, 3, 17, 13, 15, 15, 2])\n"
     ]
    }
   ],
   "source": [
    "print(complex_tensor.dtype)\n",
    "print(complex_tensor.abs().dtype)\n",
    "print(torch.view_as_real(complex_tensor).shape)"
   ]
  },
  {
   "cell_type": "code",
   "execution_count": 25,
   "metadata": {},
   "outputs": [
    {
     "name": "stdout",
     "output_type": "stream",
     "text": [
      "tensor(1.4951e-13+4.4368e-16j)\n"
     ]
    }
   ],
   "source": [
    "print(torch.pow(real_fft_res-complex_fft_res[:,:,:,:,:,:N//2+1],2).mean())"
   ]
  },
  {
   "cell_type": "code",
   "execution_count": null,
   "metadata": {},
   "outputs": [],
   "source": []
  }
 ],
 "metadata": {
  "kernelspec": {
   "display_name": "Python 3",
   "language": "python",
   "name": "python3"
  },
  "language_info": {
   "codemirror_mode": {
    "name": "ipython",
    "version": 3
   },
   "file_extension": ".py",
   "mimetype": "text/x-python",
   "name": "python",
   "nbconvert_exporter": "python",
   "pygments_lexer": "ipython3",
   "version": "3.8.5"
  }
 },
 "nbformat": 4,
 "nbformat_minor": 4
}
